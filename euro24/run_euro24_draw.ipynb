{
 "cells": [
  {
   "cell_type": "code",
   "execution_count": 15,
   "metadata": {},
   "outputs": [
    {
     "name": "stdout",
     "output_type": "stream",
     "text": [
      "      rank            country_full country_abrv  total_points  \\\n",
      "0      1.0               Argentina          ARG       1858.00   \n",
      "1      2.0                  France          FRA       1840.59   \n",
      "2      3.0                 Belgium          BEL       1795.23   \n",
      "3      4.0                 England          ENG       1794.90   \n",
      "4      5.0                  Brazil          BRA       1788.65   \n",
      "..     ...                     ...          ...           ...   \n",
      "206  207.0  British Virgin Islands          VGB        813.31   \n",
      "207  208.0       US Virgin Islands          VIR        797.29   \n",
      "208  209.0                Anguilla          AIA        793.48   \n",
      "209  210.0              San Marino          SMR        742.05   \n",
      "210    NaN                 Eritrea          ERI        855.56   \n",
      "\n",
      "     previous_points  rank_change confederation   rank_date  \n",
      "0            1855.20            0      CONMEBOL  2024-04-04  \n",
      "1            1845.44            0          UEFA  2024-04-04  \n",
      "2            1798.46           -1          UEFA  2024-04-04  \n",
      "3            1800.05            1          UEFA  2024-04-04  \n",
      "4            1784.09            0      CONMEBOL  2024-04-04  \n",
      "..               ...          ...           ...         ...  \n",
      "206           807.57            0      CONCACAF  2024-04-04  \n",
      "207           796.78            0      CONCACAF  2024-04-04  \n",
      "208           785.69            0      CONCACAF  2024-04-04  \n",
      "209           741.61            0          UEFA  2024-04-04  \n",
      "210             0.00            0           CAF  2024-04-04  \n",
      "\n",
      "[211 rows x 8 columns]\n"
     ]
    }
   ],
   "source": [
    "import pandas as pd\n",
    "\n",
    "df = pd.read_csv(\"/Users/benbiggs/Downloads/archive/fifa_ranking-2024-04-04.csv\")\n",
    "df = df[df['rank_date'] == '2024-04-04'].sort_values('rank').reset_index(drop=True)\n",
    "df['country_full'] = df['country_full']\n",
    "print (df)"
   ]
  },
  {
   "cell_type": "code",
   "execution_count": 16,
   "metadata": {},
   "outputs": [
    {
     "name": "stdout",
     "output_type": "stream",
     "text": [
      "   group_name country_full country_abrv  euro24_ranking  rank\n",
      "0     Group D       France          FRA               1   2.0\n",
      "1     Group E      Belgium          BEL               2   3.0\n",
      "2     Group C      England          ENG               3   4.0\n",
      "3     Group F     Portugal          POR               4   6.0\n",
      "4     Group D  Netherlands          NED               5   7.0\n",
      "5     Group B        Spain          ESP               6   8.0\n",
      "6     Group B        Italy          ITA               7   9.0\n",
      "7     Group B      Croatia          CRO               8  10.0\n",
      "8     Group A      Germany          GER               9  16.0\n",
      "9     Group A  Switzerland          SUI              10  19.0\n",
      "10    Group C      Denmark          DEN              11  21.0\n",
      "11    Group E      Ukraine          UKR              12  22.0\n",
      "12    Group D      Austria          AUT              13  25.0\n",
      "13    Group A      Hungary          HUN              14  26.0\n",
      "14    Group D       Poland          POL              15  28.0\n",
      "15    Group C       Serbia          SRB              16  33.0\n",
      "16    Group F      Czechia          CZE              17  36.0\n",
      "17    Group A     Scotland          SCO              18  39.0\n",
      "18    Group F       Turkey          TUR              19  40.0\n",
      "19    Group E      Romania          ROU              20  46.0\n",
      "20    Group E     Slovakia          SVK              21  48.0\n",
      "21    Group C     Slovenia          SVN              22  57.0\n",
      "22    Group B      Albania          ALB              23  66.0\n",
      "23    Group F      Georgia          GEO              24  75.0\n"
     ]
    }
   ],
   "source": [
    "with open('euro24_groups.lns', 'r') as f:\n",
    "    data = f.readlines()\n",
    "\n",
    "groups = []\n",
    "teams_in_group = []\n",
    "while len(data) > 0:\n",
    "    entry = data.pop().strip()\n",
    "    teams_in_group = []\n",
    "    while 'Group' not in entry:\n",
    "        teams_in_group.append(entry)\n",
    "        entry = data.pop().strip()\n",
    "    \n",
    "    for t in teams_in_group:\n",
    "        groups.append({\n",
    "            'group_name': entry,\n",
    "            'country_full': t\n",
    "        })\n",
    "\n",
    "group_df = pd.DataFrame(groups).sort_values('group_name').reset_index(drop=True)\n",
    "group_df = group_df.replace('Türkiye', 'Turkey')\n",
    "# print (group_df)\n",
    "\n",
    "df_teams = group_df.merge(df, on='country_full', how='left')\n",
    "\n",
    "# create a euro ranking\n",
    "df_teams = df_teams.sort_values('rank').reset_index()\n",
    "df_teams['euro24_ranking'] = df_teams.index + 1\n",
    "\n",
    "df_teams = df_teams[['group_name', 'country_full', 'country_abrv', 'euro24_ranking', 'rank']]\n",
    "print (df_teams)\n"
   ]
  },
  {
   "cell_type": "code",
   "execution_count": 17,
   "metadata": {},
   "outputs": [
    {
     "name": "stdout",
     "output_type": "stream",
     "text": [
      "         name\n",
      "0      Adam B\n",
      "1     Emily P\n",
      "2     Arjun S\n",
      "3       Bec L\n",
      "4       Ben B\n",
      "5   Grandma B\n",
      "6   Grandpa B\n",
      "7    Jackie B\n",
      "8      Mike L\n",
      "9      Nick B\n",
      "10      Pip L\n",
      "11      Sam B\n"
     ]
    }
   ],
   "source": [
    "# let's load the players\n",
    "with open('players.lns', 'r') as g:\n",
    "    df_players = pd.DataFrame([{\n",
    "        'name': p.strip()\n",
    "        }for p in g.readlines()]).reset_index(drop=True)\n",
    "\n",
    "print (df_players)"
   ]
  },
  {
   "cell_type": "code",
   "execution_count": 18,
   "metadata": {},
   "outputs": [
    {
     "name": "stdout",
     "output_type": "stream",
     "text": [
      "    index       name\n",
      "0       0     Adam B\n",
      "1       7   Jackie B\n",
      "2       9     Nick B\n",
      "3      11      Sam B\n",
      "4       8     Mike L\n",
      "5       2    Arjun S\n",
      "6       5  Grandma B\n",
      "7       6  Grandpa B\n",
      "8      10      Pip L\n",
      "9       3      Bec L\n",
      "10      1    Emily P\n",
      "11      4      Ben B\n",
      "12     10      Pip L\n",
      "13      0     Adam B\n",
      "14      7   Jackie B\n",
      "15      1    Emily P\n",
      "16      5  Grandma B\n",
      "17      3      Bec L\n",
      "18      2    Arjun S\n",
      "19      9     Nick B\n",
      "20      6  Grandpa B\n",
      "21      8     Mike L\n",
      "22      4      Ben B\n",
      "23     11      Sam B\n"
     ]
    }
   ],
   "source": [
    "import numpy as np\n",
    "\n",
    "np.random.seed(14062024) # start date of euro 2024\n",
    "\n",
    "tophalf_ids = np.random.permutation(len(df_players))\n",
    "bottomhalf_ids = np.random.permutation(len(df_players))\n",
    "\n",
    "df_players_shuffled = pd.concat([df_players.iloc[tophalf_ids], df_players.iloc[bottomhalf_ids]]).reset_index()\n",
    "print (df_players_shuffled)"
   ]
  },
  {
   "cell_type": "code",
   "execution_count": 19,
   "metadata": {},
   "outputs": [
    {
     "name": "stdout",
     "output_type": "stream",
     "text": [
      "   group_name country_full country_abrv  euro24_ranking  rank     player\n",
      "8     Group A      Germany          GER               9  16.0      Pip L\n",
      "13    Group A      Hungary          HUN              14  26.0     Adam B\n",
      "9     Group A  Switzerland          SUI              10  19.0      Bec L\n",
      "17    Group A     Scotland          SCO              18  39.0      Bec L\n",
      "5     Group B        Spain          ESP               6   8.0    Arjun S\n",
      "6     Group B        Italy          ITA               7   9.0  Grandma B\n",
      "7     Group B      Croatia          CRO               8  10.0  Grandpa B\n",
      "22    Group B      Albania          ALB              23  66.0      Ben B\n",
      "2     Group C      England          ENG               3   4.0     Nick B\n",
      "10    Group C      Denmark          DEN              11  21.0    Emily P\n",
      "21    Group C     Slovenia          SVN              22  57.0     Mike L\n",
      "15    Group C       Serbia          SRB              16  33.0    Emily P\n",
      "4     Group D  Netherlands          NED               5   7.0     Mike L\n",
      "12    Group D      Austria          AUT              13  25.0      Pip L\n",
      "14    Group D       Poland          POL              15  28.0   Jackie B\n",
      "0     Group D       France          FRA               1   2.0     Adam B\n",
      "19    Group E      Romania          ROU              20  46.0     Nick B\n",
      "20    Group E     Slovakia          SVK              21  48.0  Grandpa B\n",
      "11    Group E      Ukraine          UKR              12  22.0      Ben B\n",
      "1     Group E      Belgium          BEL               2   3.0   Jackie B\n",
      "16    Group F      Czechia          CZE              17  36.0  Grandma B\n",
      "3     Group F     Portugal          POR               4   6.0      Sam B\n",
      "18    Group F       Turkey          TUR              19  40.0    Arjun S\n",
      "23    Group F      Georgia          GEO              24  75.0      Sam B\n"
     ]
    }
   ],
   "source": [
    "# join with the euro teams\n",
    "\n",
    "df_teams['player'] = df_players_shuffled['name']\n",
    "print (df_teams.sort_values('group_name'))"
   ]
  },
  {
   "cell_type": "code",
   "execution_count": 20,
   "metadata": {},
   "outputs": [
    {
     "name": "stdout",
     "output_type": "stream",
     "text": [
      "       player                    Team_1                 Team_2\n",
      "0      Adam B        France (D), rank=1   Hungary (A), rank=14\n",
      "1     Arjun S         Spain (B), rank=6    Turkey (F), rank=19\n",
      "2       Bec L  Switzerland (A), rank=10  Scotland (A), rank=18\n",
      "3       Ben B      Ukraine (E), rank=12   Albania (B), rank=23\n",
      "4     Emily P      Denmark (C), rank=11    Serbia (C), rank=16\n",
      "5   Grandma B         Italy (B), rank=7   Czechia (F), rank=17\n",
      "6   Grandpa B       Croatia (B), rank=8  Slovakia (E), rank=21\n",
      "7    Jackie B       Belgium (E), rank=2    Poland (D), rank=15\n",
      "8      Mike L   Netherlands (D), rank=5  Slovenia (C), rank=22\n",
      "9      Nick B       England (C), rank=3   Romania (E), rank=20\n",
      "10      Pip L       Germany (A), rank=9   Austria (D), rank=13\n",
      "11      Sam B      Portugal (F), rank=4   Georgia (F), rank=24\n"
     ]
    }
   ],
   "source": [
    "df_teams['printable'] = df_teams.apply(lambda x: f\"{x['country_full']} ({x['group_name'].replace('Group ', '')}), rank={x['euro24_ranking']}\", axis=1)\n",
    "teams_per_player = df_teams[['player', 'printable']].groupby('player').agg(list)\n",
    "teams_per_player = teams_per_player.reset_index()\n",
    "# print (df_teams[['player', 'printable']].sort_values('player'))\n",
    "teams_per_player_expanded = pd.DataFrame(\n",
    "    teams_per_player['printable'].to_list(), \n",
    "    index=teams_per_player['player']\n",
    ").reset_index()\n",
    "\n",
    "# Rename columns\n",
    "teams_per_player_expanded.columns = ['player'] + [f'Team_{i+1}' for i in range(2)]\n",
    "\n",
    "print (teams_per_player_expanded)"
   ]
  },
  {
   "cell_type": "code",
   "execution_count": 21,
   "metadata": {},
   "outputs": [
    {
     "name": "stdout",
     "output_type": "stream",
     "text": [
      "|    | player    | Team_1                   | Team_2                |\n",
      "|---:|:----------|:-------------------------|:----------------------|\n",
      "|  0 | Adam B    | France (D), rank=1       | Hungary (A), rank=14  |\n",
      "|  1 | Arjun S   | Spain (B), rank=6        | Turkey (F), rank=19   |\n",
      "|  2 | Bec L     | Switzerland (A), rank=10 | Scotland (A), rank=18 |\n",
      "|  3 | Ben B     | Ukraine (E), rank=12     | Albania (B), rank=23  |\n",
      "|  4 | Emily P   | Denmark (C), rank=11     | Serbia (C), rank=16   |\n",
      "|  5 | Grandma B | Italy (B), rank=7        | Czechia (F), rank=17  |\n",
      "|  6 | Grandpa B | Croatia (B), rank=8      | Slovakia (E), rank=21 |\n",
      "|  7 | Jackie B  | Belgium (E), rank=2      | Poland (D), rank=15   |\n",
      "|  8 | Mike L    | Netherlands (D), rank=5  | Slovenia (C), rank=22 |\n",
      "|  9 | Nick B    | England (C), rank=3      | Romania (E), rank=20  |\n",
      "| 10 | Pip L     | Germany (A), rank=9      | Austria (D), rank=13  |\n",
      "| 11 | Sam B     | Portugal (F), rank=4     | Georgia (F), rank=24  |\n"
     ]
    }
   ],
   "source": [
    "print (teams_per_player_expanded.to_markdown())"
   ]
  }
 ],
 "metadata": {
  "kernelspec": {
   "display_name": "bedrock_titan",
   "language": "python",
   "name": "python3"
  },
  "language_info": {
   "codemirror_mode": {
    "name": "ipython",
    "version": 3
   },
   "file_extension": ".py",
   "mimetype": "text/x-python",
   "name": "python",
   "nbconvert_exporter": "python",
   "pygments_lexer": "ipython3",
   "version": "3.8.18"
  }
 },
 "nbformat": 4,
 "nbformat_minor": 2
}
